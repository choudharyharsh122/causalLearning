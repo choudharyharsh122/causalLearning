{
 "cells": [
  {
   "cell_type": "code",
   "execution_count": 1,
   "id": "fa524e9b",
   "metadata": {
    "scrolled": true
   },
   "outputs": [],
   "source": [
    "#error with load.pickle\n",
    "#!pip install \"pandas<2.0.0\"\n",
    "#!pip install dgb\n",
    "#!pip install dgp"
   ]
  },
  {
   "cell_type": "markdown",
   "id": "c985992f",
   "metadata": {},
   "source": [
    "## Generating the ground truth adjacency matrix "
   ]
  },
  {
   "cell_type": "code",
   "execution_count": 2,
   "id": "c46efeee",
   "metadata": {},
   "outputs": [],
   "source": [
    "import networkx as nx\n",
    "import numpy as np\n",
    "#import dgb\n",
    "#import dgp\n",
    "import pickle\n",
    "import pandas as pd\n",
    "import matplotlib.pyplot as plt"
   ]
  },
  {
   "cell_type": "code",
   "execution_count": 3,
   "id": "8972178c",
   "metadata": {},
   "outputs": [
    {
     "data": {
      "text/plain": [
       "'/home/choudhar'"
      ]
     },
     "execution_count": 3,
     "metadata": {},
     "output_type": "execute_result"
    }
   ],
   "source": [
    "import os \n",
    "path = os.getcwd()\n",
    "path"
   ]
  },
  {
   "cell_type": "code",
   "execution_count": 4,
   "id": "087a315a",
   "metadata": {},
   "outputs": [],
   "source": [
    "filename = os.path.join(path, '../data/data_8n_100ts_30N_graphs.gpickle')\n",
    "\n",
    "with open(filename, 'rb') as f:\n",
    "    graph = pickle.load(f)"
   ]
  },
  {
   "cell_type": "code",
   "execution_count": 5,
   "id": "ab833189",
   "metadata": {},
   "outputs": [],
   "source": [
    "num_time_slices = 100 #number of time slices in the folded dataset \n",
    "num_vars = 8 #number of variables per time slice"
   ]
  },
  {
   "cell_type": "code",
   "execution_count": 6,
   "id": "e01b0881",
   "metadata": {},
   "outputs": [],
   "source": [
    "#graph\n",
    "#graph.causal_graph.nodes\n",
    "#graph.causal_graph.edges"
   ]
  },
  {
   "cell_type": "code",
   "execution_count": 7,
   "id": "b0481fe3",
   "metadata": {},
   "outputs": [],
   "source": [
    "## Removing the noise variables from the graph\n",
    "node_list = [node for node in graph.causal_graph.nodes if not node.startswith('S')]  \n",
    "# No edges originating from noise.\n",
    "edge_list = [edge for edge in graph.causal_graph.edges if not edge[0].startswith('S')]"
   ]
  },
  {
   "cell_type": "code",
   "execution_count": 8,
   "id": "b55c8b38",
   "metadata": {},
   "outputs": [],
   "source": [
    "L = graph.get_feature_nodes() + graph.get_target_nodes()"
   ]
  },
  {
   "cell_type": "code",
   "execution_count": 9,
   "id": "b6b8d460",
   "metadata": {},
   "outputs": [],
   "source": [
    "# renaming the nodes and edges \n",
    "\n",
    "renamed_nodes = []\n",
    "for node in L:\n",
    "    if node.endswith('_t'):\n",
    "        renamed_node = node.replace('_t', f'_t_{num_time_slices-1}')\n",
    "    else: \n",
    "        for i in range(1, num_time_slices): \n",
    "            if node.endswith(f'_t{-i}'):\n",
    "                renamed_node = node.replace(f'_t{-i}', f'_t_{-i+num_time_slices-1}')\n",
    "    \n",
    "    renamed_nodes.append(renamed_node)\n",
    "\n",
    "renamed_edges = []\n",
    "for tuple in edge_list:\n",
    "    renamed_edge = ()\n",
    "    for node in tuple:\n",
    "        if node.endswith('_t'):\n",
    "            renamed_node = node.replace('_t', f'_t_{num_time_slices-1}')\n",
    "        else: \n",
    "            for i in range(1, num_time_slices): \n",
    "                if node.endswith(f'_t{-i}'):\n",
    "                    renamed_node = node.replace(f'_t{-i}', f'_t_{-i+num_time_slices-1}')\n",
    "        renamed_edge = renamed_edge+(renamed_node,)\n",
    "    renamed_edges.append(renamed_edge)\n"
   ]
  },
  {
   "cell_type": "code",
   "execution_count": 10,
   "id": "abb1dd23",
   "metadata": {},
   "outputs": [],
   "source": [
    "G_new = nx.DiGraph()\n",
    "G_new.add_nodes_from(renamed_nodes)\n",
    "G_new.add_edges_from(renamed_edges)"
   ]
  },
  {
   "cell_type": "code",
   "execution_count": 11,
   "id": "bf9eaf5c",
   "metadata": {},
   "outputs": [
    {
     "data": {
      "image/png": "[encoded data removed]",
      "text/plain": [
       "<Figure size 640x480 with 1 Axes>"
      ]
     },
     "metadata": {},
     "output_type": "display_data"
    }
   ],
   "source": [
    "nx.draw_networkx(G_new)"
   ]
  },
  {
   "cell_type": "markdown",
   "id": "33012fe2",
   "metadata": {},
   "source": [
    "The adjacency matrix needs to have the same variables order as the data "
   ]
  },
  {
   "cell_type": "code",
   "execution_count": 12,
   "id": "4f263d3b",
   "metadata": {},
   "outputs": [],
   "source": [
    "data_dbn_format = pd.read_csv(os.path.join(path, 'synthetic_datasets/data_3n_10ts_30N.csv'))\n",
    "order_from_datafile = list(data_dbn_format.columns)"
   ]
  },
  {
   "cell_type": "code",
   "execution_count": 13,
   "id": "190caf81",
   "metadata": {},
   "outputs": [],
   "source": [
    "# getting the graph's adj matrix with the right order from the data \n",
    "m = nx.adjacency_matrix(G_new, nodelist=order_from_datafile[-num_vars*2:])\n",
    "adj = m.todense()"
   ]
  },
  {
   "cell_type": "code",
   "execution_count": 14,
   "id": "991098cf",
   "metadata": {},
   "outputs": [],
   "source": [
    "adj_mat_prior = adj[:num_vars,:num_vars]\n",
    "adj_mat_transition = adj[:num_vars, num_vars:2*num_vars]"
   ]
  },
  {
   "cell_type": "code",
   "execution_count": 15,
   "id": "03df04d6",
   "metadata": {},
   "outputs": [],
   "source": [
    "# under the stationary assumption\n",
    "adj_final = np.zeros((num_vars*num_time_slices, num_vars*num_time_slices))\n",
    "\n",
    "for k in range(num_time_slices):\n",
    "    #filling the prior matrix\n",
    "    adj_final[num_vars*k:num_vars*(k+1),num_vars*k:num_vars*(k+1)] = adj_mat_prior \n",
    "    #the transition \n",
    "    if k < num_time_slices - 1:\n",
    "        adj_final[num_vars*k:num_vars*(k+1),num_vars*(k+1):num_vars*(k+2)] = adj_mat_transition"
   ]
  },
  {
   "cell_type": "code",
   "execution_count": 16,
   "id": "aebc57bf",
   "metadata": {},
   "outputs": [],
   "source": [
    "pd.DataFrame(adj_final).to_csv(os.path.join(path, 'synthetic_datasets/adj_3n_10ts_30N.csv'))"
   ]
  },
  {
   "cell_type": "code",
   "execution_count": null,
   "id": "08062a4c",
   "metadata": {},
   "outputs": [],
   "source": []
  }
 ],
 "metadata": {
  "kernelspec": {
   "display_name": "Python 3 (ipykernel)",
   "language": "python",
   "name": "python3"
  },
  "language_info": {
   "codemirror_mode": {
    "name": "ipython",
    "version": 3
   },
   "file_extension": ".py",
   "mimetype": "text/x-python",
   "name": "python",
   "nbconvert_exporter": "python",
   "pygments_lexer": "ipython3",
   "version": "3.10.13"
  }
 },
 "nbformat": 4,
 "nbformat_minor": 5
}
