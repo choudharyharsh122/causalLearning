{
 "cells": [
  {
   "cell_type": "code",
   "execution_count": 1,
   "metadata": {},
   "outputs": [],
   "source": [
    "import numpy as np\n",
    "import networkx as nx\n",
    "import matplotlib.pyplot as plt"
   ]
  },
  {
   "cell_type": "code",
   "execution_count": 2,
   "metadata": {},
   "outputs": [],
   "source": [
    "def create_dbn():\n",
    "    # Define nodes for two time slices\n",
    "    nodes_t1 = ['X_t1', 'Y_t1']\n",
    "    nodes_t2 = ['X_t2', 'Y_t2']\n",
    "    \n",
    "    # Create the graph\n",
    "    G = nx.DiGraph()\n",
    "    \n",
    "    # Add nodes\n",
    "    G.add_nodes_from(nodes_t1 + nodes_t2)\n",
    "    \n",
    "    # Intra-slice dependencies (within the same time slice)\n",
    "    G.add_edge('X_t1', 'Y_t1')\n",
    "    G.add_edge('X_t2', 'Y_t2')\n",
    "    \n",
    "    # Inter-slice dependencies (across consecutive time slices)\n",
    "    G.add_edge('X_t1', 'X_t2')\n",
    "    G.add_edge('Y_t1', 'Y_t2')\n",
    "    #G.add_edge('X_t1', 'Y_t2')\n",
    "    G.add_edge('Y_t1', 'X_t2')\n",
    "    \n",
    "    return G, nodes_t1, nodes_t2"
   ]
  },
  {
   "cell_type": "code",
   "execution_count": 3,
   "metadata": {},
   "outputs": [],
   "source": [
    "def create_adjacency_matrix(G, nodes_t1, nodes_t2):\n",
    "    # Combined nodes list\n",
    "    nodes = nodes_t1 + nodes_t2\n",
    "    \n",
    "    # Create adjacency matrix\n",
    "    adj_matrix = nx.adjacency_matrix(G, nodelist=nodes).todense()\n",
    "    \n",
    "    return np.array(adj_matrix), nodes"
   ]
  },
  {
   "cell_type": "code",
   "execution_count": 7,
   "metadata": {},
   "outputs": [
    {
     "data": {
      "image/png": "[encoded data removed]",
      "text/plain": [
       "<Figure size 640x480 with 1 Axes>"
      ]
     },
     "metadata": {},
     "output_type": "display_data"
    },
    {
     "name": "stdout",
     "output_type": "stream",
     "text": [
      "Adjacency Matrix:\n",
      "[[0 1 1 0]\n",
      " [0 0 1 1]\n",
      " [0 0 0 1]\n",
      " [0 0 0 0]]\n"
     ]
    }
   ],
   "source": [
    "def plot_dbn(G):\n",
    "    pos = {\n",
    "        'X_t1': (0, 1), 'Y_t1': (1, 1),\n",
    "        'X_t2': (2, 1), 'Y_t2': (3, 1)\n",
    "    }\n",
    "    nx.draw(G, pos, with_labels=True, node_size=3000, node_color='lightblue', font_size=10, font_weight='bold', arrowsize=20)\n",
    "    plt.show()\n",
    "\n",
    "# Create the DBN and plot it\n",
    "G, nodes_t1, nodes_t2 = create_dbn()\n",
    "plot_dbn(G)\n",
    "\n",
    "# Create the adjacency matrix\n",
    "adj_matrix, nodes = create_adjacency_matrix(G, nodes_t1, nodes_t2)\n",
    "print(\"Adjacency Matrix:\")\n",
    "print(adj_matrix)"
   ]
  },
  {
   "cell_type": "code",
   "execution_count": 1,
   "metadata": {},
   "outputs": [
    {
     "name": "stdout",
     "output_type": "stream",
     "text": [
      "            X         Y         Z\n",
      "0    0.496714  0.647689 -0.234153\n",
      "1   -0.138264  1.523030  0.000000\n",
      "2    0.061179  1.512571  0.899798\n",
      "3   -0.469474 -0.463418  0.241962\n",
      "4    0.542560 -0.465730  0.000000\n",
      "..        ...       ...       ...\n",
      "295  1.080781  0.459180  0.000000\n",
      "296 -0.468177  0.435374  0.721949\n",
      "297  0.271579 -1.081057 -0.039555\n",
      "298 -1.276749  1.053153  0.000000\n",
      "299 -0.177372  0.102559 -0.192751\n",
      "\n",
      "[300 rows x 3 columns]\n"
     ]
    }
   ],
   "source": [
    "import pandas as pd\n",
    "import numpy as np\n",
    "\n",
    "def generate_noisy_time_series(num_segments, segment_length, seed=None):\n",
    "    if seed is not None:\n",
    "        np.random.seed(seed)\n",
    "    \n",
    "    num_timesteps = num_segments * segment_length\n",
    "\n",
    "    # Initialize the DataFrame\n",
    "    data = pd.DataFrame({\n",
    "        'X': np.zeros(num_timesteps),\n",
    "        'Y': np.zeros(num_timesteps),\n",
    "        'Z': np.zeros(num_timesteps)\n",
    "    })\n",
    "\n",
    "    # Function to add noise\n",
    "    def add_noise(value):\n",
    "        noise = np.random.normal(0, 0.5 * np.abs(value))\n",
    "        return value + noise\n",
    "\n",
    "    # Generate data in segments\n",
    "    for segment in range(num_segments):\n",
    "        start_idx = segment * segment_length\n",
    "        \n",
    "        # Initialize the first two values for X and Y, and the first value for Z in each segment\n",
    "        data.loc[start_idx, 'X'] = np.random.randn()\n",
    "        data.loc[start_idx + 1, 'X'] = np.random.randn()\n",
    "        data.loc[start_idx, 'Y'] = np.random.randn()\n",
    "        data.loc[start_idx + 1, 'Y'] = np.random.randn()\n",
    "        data.loc[start_idx, 'Z'] = np.random.randn()\n",
    "\n",
    "        for t in range((start_idx + (segment_length-1)), start_idx + segment_length):\n",
    "            X_t = 0.5 * data.loc[t-1, 'X'] + 0.3 * data.loc[t-2, 'X']\n",
    "            Y_t = 0.3 * data.loc[t-1, 'Y'] + 0.2 * data.loc[t-2, 'Y']\n",
    "            Z_t = 0.5 * X_t + 0.8 * Y_t\n",
    "            \n",
    "            # Add noise to each variable\n",
    "            data.loc[t, 'X'] = add_noise(X_t)\n",
    "            data.loc[t, 'Y'] = add_noise(Y_t)\n",
    "            data.loc[t, 'Z'] = add_noise(Z_t)\n",
    "\n",
    "    return data\n",
    "\n",
    "\n",
    "num_segments = 100\n",
    "segment_length = 3\n",
    "\n",
    "# Generate the noisy time series\n",
    "noisy_time_series_data = generate_noisy_time_series(num_segments, segment_length, seed=42)\n",
    "\n",
    "# Display the first few rows\n",
    "print(noisy_time_series_data)"
   ]
  },
  {
   "cell_type": "code",
   "execution_count": 2,
   "metadata": {},
   "outputs": [],
   "source": [
    "save_path = '../data/time_series.csv'\n",
    "noisy_time_series_data.to_csv(save_path)"
   ]
  },
  {
   "cell_type": "code",
   "execution_count": 3,
   "metadata": {},
   "outputs": [],
   "source": [
    "X_list = []\n",
    "Y_list = []\n",
    "Z_list = []\n",
    "for i in range(2, len(noisy_time_series_data)):\n",
    "    X_test = noisy_time_series_data.loc[i, 'X'] - (0.2*noisy_time_series_data.loc[i-1, 'X'] + 0.3*noisy_time_series_data.loc[i-2, 'X'])\n",
    "    Y_test = noisy_time_series_data.loc[i, 'Y'] - (0.2*noisy_time_series_data.loc[i-1, 'Y'] + 0.3*noisy_time_series_data.loc[i-2, 'Y'])\n",
    "    Z_test = noisy_time_series_data.loc[i, 'Z'] - (0.4*noisy_time_series_data.loc[i-1, 'Z'] + 0.3*noisy_time_series_data.loc[i, 'X'] + 0.2*noisy_time_series_data.loc[i, 'Y'])\n",
    "    X_list.append(X_test)\n",
    "    Y_list.append(Y_test)\n",
    "    Z_list.append(Z_test)\n",
    "    "
   ]
  },
  {
   "cell_type": "code",
   "execution_count": 9,
   "metadata": {},
   "outputs": [
    {
     "name": "stdout",
     "output_type": "stream",
     "text": [
      "Original matrix:\n",
      "[[1 2 3]\n",
      " [4 5 6]\n",
      " [7 8 9]]\n",
      "Upper triangular matrix:\n",
      "[[0 2 3]\n",
      " [0 0 6]\n",
      " [0 0 0]]\n"
     ]
    }
   ],
   "source": [
    "import numpy as np\n",
    "\n",
    "# Example matrix\n",
    "lambda_a = np.array([[1, 2, 3],\n",
    "                     [4, 5, 6],\n",
    "                     [7, 8, 9]])\n",
    "\n",
    "# Convert to upper triangular matrix\n",
    "upper_triangular = np.triu(lambda_a, k=1)\n",
    "\n",
    "print(\"Original matrix:\")\n",
    "print(lambda_a)\n",
    "print(\"Upper triangular matrix:\")\n",
    "print(upper_triangular)"
   ]
  },
  {
   "cell_type": "code",
   "execution_count": null,
   "metadata": {},
   "outputs": [],
   "source": []
  }
 ],
 "metadata": {
  "kernelspec": {
   "display_name": "ghost",
   "language": "python",
   "name": "python3"
  },
  "language_info": {
   "codemirror_mode": {
    "name": "ipython",
    "version": 3
   },
   "file_extension": ".py",
   "mimetype": "text/x-python",
   "name": "python",
   "nbconvert_exporter": "python",
   "pygments_lexer": "ipython3",
   "version": "3.10.13"
  }
 },
 "nbformat": 4,
 "nbformat_minor": 2
}
